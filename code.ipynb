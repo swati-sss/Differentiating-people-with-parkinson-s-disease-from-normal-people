from xgboost import XGBClassifier
import numpy as np
import pandas as pd 
import seaborn as sns
import matplotlib.pyplot as plt
path = 'parkinsons.data'
df = pd.read_csv("parkinsons.data")
df.head()
df.shape(10)
df.info()
df.describe()
