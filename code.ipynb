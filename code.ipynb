from xgboost import XGBClassifier
from sklearn.model_selection import cross_val_score,cross_validate
from sklearn.model_selection import StratifiedKFold
from sklearn.preprocessing import MinMaxScaler
import numpy as np
import pandas as pd 
import seaborn as sns
import matplotlib.pyplot as plt
path = 'parkinsons.data'
df = pd.read_csv("https://github.com/swati-sss/Differentiating-people-with-parkinson-s-disease-from-normal-people/blob/master/parkinsons.data")
df.head()
df.info()
df.shape
df.describe()
sns.countplot(df['status']) #ploting a count of the target variable with seaborn
plt.show()
plt.figure(figsize=(20,10))
sns.heatmap(df.corr(),annot=True,fmt=".2f",linewidths="1.2")
plt.show()

#Using pair plot to showing the relationship between variables that are highly correlected (+ve and -ve) with the target (status)
plt.figure(figsize = (15,10))
sns.pairplot(df, vars=['MDVP:Fo(Hz)','MDVP:Flo(Hz)','HNR','PPE','spread1','spread2'],hue='status',palette='Dark2')
plt.savefig('Relationship')
plt.show()

#Dividing our dataset into X (features) and y (Target) using numpy
X = np.array(df.drop(['name','status'], axis = 1))
y = np.array(df['status'])
print(f'X shape: {X.shape} Y Shape: {y.shape}')

#scaling the features so they are of the same scale. The target doesnt need to be scaled
scaler = MinMaxScaler()
scaled_X = scaler.fit_transform(X)

Perfroming Cross Validation
Cross validation helps to ensure that our model is not over fitting the data


def crossValidate(model):
    #Using StratifiedKFold to ensure that the divided folds are shuffled
    strat_k_fold = StratifiedKFold(n_splits = 10, shuffle = True, random_state = 42)
    
    #Getting just specific scores for perfromance evualation.
    scoring = ["accuracy","precision","recall","f1","roc_auc"]
    cv = cross_validate(model, scaled_X, y, cv = strat_k_fold, scoring = scoring)
    
    '''
    for score in cv:
        print(f'{score}: {round(cv[score].mean(),3)}')
    '''
    
    result = [round(cv[score].mean(),3) for score in cv]
    return result
    
Instantiate The Model To Be Used

model = XGBClassifier()
result = crossValidate(model)#passing the model to the cross validate function

result[2:]

plt.figure(figsize = (6,2))
model_preformance = pd.Series(data=result[2:], 
        index=['Accuracy','Precision','Recall','F1-Score','AUC (ROC)'])
model_preformance.sort_values().plot.barh()
plt.title('Model Performance')
